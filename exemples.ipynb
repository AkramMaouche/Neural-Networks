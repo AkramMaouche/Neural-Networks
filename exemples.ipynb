{
  "cells": [
    {
      "cell_type": "code",
      "execution_count": 1,
      "metadata": {
        "colab": {
          "base_uri": "https://localhost:8080/"
        },
        "id": "8ywoWnMtNhcf",
        "outputId": "25749c3e-39b3-4682-cfdb-dc01b48847e8"
      },
      "outputs": [
        {
          "output_type": "stream",
          "name": "stdout",
          "text": [
            "Akram\n"
          ]
        }
      ],
      "source": [
        "print(\"Akram\")"
      ]
    },
    {
      "cell_type": "code",
      "source": [
        "import tensorflow as tf\n",
        "import pandas as pd\n",
        "\n"
      ],
      "metadata": {
        "id": "9wKm5XilNnE0"
      },
      "execution_count": 6,
      "outputs": []
    },
    {
      "cell_type": "code",
      "source": [
        "minst = tf.keras.datasets.mnist"
      ],
      "metadata": {
        "id": "8vVW3GATNnHj"
      },
      "execution_count": 4,
      "outputs": []
    },
    {
      "cell_type": "code",
      "source": [
        "minst.load_data()"
      ],
      "metadata": {
        "id": "oETcTeQGNnKc"
      },
      "execution_count": null,
      "outputs": []
    },
    {
      "cell_type": "code",
      "source": [
        "(x_train,y_train), (x_test ,y_test )= minst.load_data()"
      ],
      "metadata": {
        "id": "taNscs6DZOsz"
      },
      "execution_count": 12,
      "outputs": []
    },
    {
      "cell_type": "code",
      "source": [
        "x_train.shape,y_train.shape"
      ],
      "metadata": {
        "colab": {
          "base_uri": "https://localhost:8080/"
        },
        "id": "CmlNOLUZZOvK",
        "outputId": "39cbe598-b579-4ef8-d254-7d1a3b32fb04"
      },
      "execution_count": 15,
      "outputs": [
        {
          "output_type": "execute_result",
          "data": {
            "text/plain": [
              "((60000, 28, 28), (60000,))"
            ]
          },
          "metadata": {},
          "execution_count": 15
        }
      ]
    },
    {
      "cell_type": "code",
      "source": [
        "x_test.shape, y_test.shape"
      ],
      "metadata": {
        "colab": {
          "base_uri": "https://localhost:8080/"
        },
        "id": "UdgEctDvZvhs",
        "outputId": "3bb90042-8e08-40ce-8b97-1d109e2d9c3b"
      },
      "execution_count": 17,
      "outputs": [
        {
          "output_type": "execute_result",
          "data": {
            "text/plain": [
              "((10000, 28, 28), (10000,))"
            ]
          },
          "metadata": {},
          "execution_count": 17
        }
      ]
    },
    {
      "cell_type": "markdown",
      "source": [
        "# Creating the Neural Network"
      ],
      "metadata": {
        "id": "VnlNLzM1aNDT"
      }
    },
    {
      "cell_type": "code",
      "source": [
        "tf.ker"
      ],
      "metadata": {
        "id": "0i6tzRB0aMhc"
      },
      "execution_count": null,
      "outputs": []
    },
    {
      "cell_type": "code",
      "source": [],
      "metadata": {
        "id": "lCwvHPXTZOxT"
      },
      "execution_count": null,
      "outputs": []
    }
  ],
  "metadata": {
    "language_info": {
      "name": "python"
    },
    "orig_nbformat": 4,
    "colab": {
      "provenance": []
    },
    "kernelspec": {
      "name": "python3",
      "display_name": "Python 3"
    }
  },
  "nbformat": 4,
  "nbformat_minor": 0
}